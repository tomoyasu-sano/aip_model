{
 "cells": [
  {
   "cell_type": "code",
   "execution_count": 1,
   "metadata": {},
   "outputs": [
    {
     "name": "stdout",
     "output_type": "stream",
     "text": [
      "(25, 25, 25)\n",
      "(25, 25, 1)\n",
      "(3, 25)\n"
     ]
    }
   ],
   "source": [
    "import numpy as np\n",
    "from sklearn.neighbors import KNeighborsClassifier\n",
    "import pandas as pd\n",
    "import sys\n",
    "sys.path.append('..')\n",
    "#from common.utility import *\n",
    "\n",
    "g_data = np.load('./g_sample_data.npy')\n",
    "h_data = np.load('./h_sample_data.npy')\n",
    "print(g_data.shape)\n",
    "print(h_data.shape)\n",
    "\n",
    "#new_data import\n",
    "#仮\n",
    "a = g_data[4][1]\n",
    "b = g_data[0][1]\n",
    "c = g_data[5][2]\n",
    "new_data = np.concatenate([[a],[b],[c]])\n",
    "new_data[1]\n",
    "print(new_data.shape)"
   ]
  },
  {
   "cell_type": "code",
   "execution_count": 2,
   "metadata": {},
   "outputs": [],
   "source": [
    "def cos_similarity(x, y, eps=1e-8):\n",
    "    '''コサイン類似度の算出\n",
    "    :param x: ベクトル\n",
    "    :param y: ベクトル\n",
    "    :param eps: ”0割り”防止のための微小値\n",
    "    :return:\n",
    "    '''\n",
    "    nx = x / (np.sqrt(np.sum(x ** 2)) + eps)\n",
    "    ny = y / (np.sqrt(np.sum(y ** 2)) + eps)\n",
    "    return np.dot(nx, ny)"
   ]
  },
  {
   "cell_type": "code",
   "execution_count": 3,
   "metadata": {},
   "outputs": [],
   "source": [
    "def table_distance(g_data, h_data, new_data):\n",
    "    \"\"\" \n",
    "    1) 過去データ：g_data、　+1日後のデータ：h_data、　直前のデータ：new_data\n",
    "    2) new_dataと、過去データを比較しコサイン類似度を算出\n",
    "    3) 類似度とnew_dataの要素積をかける（new_dataは-をかけ、その最小値が、「最も類似しかつ+1日後の結果が良い」\n",
    "    4) tableごとにコサイン類似度の最小値をtable_distanceに格納\n",
    "    \"\"\"\n",
    "    table_distance = {}\n",
    "    for n  in  range(g_data.shape[0]):\n",
    "        #コサイン類似度(cos_similarity)\n",
    "        cos =cos_similarity(g_data[n] , new_data)\n",
    "        distances = cos  * (- h_data[n].T)\n",
    "        distance = np.amin(distances)\n",
    "        table_distance[n] = distance\n",
    "    best_table = np.argmin(table_distance)\n",
    "    #return best_table\n",
    "    return table_distance"
   ]
  },
  {
   "cell_type": "code",
   "execution_count": 4,
   "metadata": {},
   "outputs": [],
   "source": [
    "def predict_table(new_data):\n",
    "    \"\"\"\n",
    "    1) new_dataが2次元配列処理\n",
    "    2) 全tableから最も良いテーブルをレコメンド\n",
    "    \"\"\"\n",
    "    best_predict = {}\n",
    "    for table , d in enumerate(new_data):\n",
    "        best_table = table_distance(g_data, h_data, d)\n",
    "        predict = sorted(best_table.values())[0]\n",
    "        best_predict[table] = predict\n",
    "        \n",
    "    min_kv = min(best_predict.items(), key=lambda x: x[1])\n",
    "\n",
    "    return min_kv\n"
   ]
  },
  {
   "cell_type": "code",
   "execution_count": 5,
   "metadata": {},
   "outputs": [
    {
     "data": {
      "text/plain": [
       "(0, -17.508492377176765)"
      ]
     },
     "execution_count": 5,
     "metadata": {},
     "output_type": "execute_result"
    }
   ],
   "source": [
    "predict_table(new_data)"
   ]
  },
  {
   "cell_type": "code",
   "execution_count": null,
   "metadata": {},
   "outputs": [],
   "source": []
  }
 ],
 "metadata": {
  "kernelspec": {
   "display_name": "Python 3",
   "language": "python",
   "name": "python3"
  },
  "language_info": {
   "codemirror_mode": {
    "name": "ipython",
    "version": 3
   },
   "file_extension": ".py",
   "mimetype": "text/x-python",
   "name": "python",
   "nbconvert_exporter": "python",
   "pygments_lexer": "ipython3",
   "version": "3.6.9"
  }
 },
 "nbformat": 4,
 "nbformat_minor": 2
}
