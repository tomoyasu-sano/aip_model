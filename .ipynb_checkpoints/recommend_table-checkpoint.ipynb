{
 "cells": [
  {
   "cell_type": "code",
   "execution_count": 180,
   "metadata": {},
   "outputs": [],
   "source": [
    "import numpy as np\n",
    "from sklearn.neighbors import KNeighborsClassifier\n",
    "import pandas as pd"
   ]
  },
  {
   "cell_type": "code",
   "execution_count": 223,
   "metadata": {},
   "outputs": [
    {
     "name": "stdout",
     "output_type": "stream",
     "text": [
      "(25, 25, 25)\n",
      "(25, 25, 1)\n"
     ]
    }
   ],
   "source": [
    "g_data = np.load('./g_sample_data.npy')\n",
    "h_data = np.load('./h_sample_data.npy')\n",
    "print(g_data.shape)\n",
    "print(h_data.shape)"
   ]
  },
  {
   "cell_type": "code",
   "execution_count": 252,
   "metadata": {},
   "outputs": [
    {
     "name": "stdout",
     "output_type": "stream",
     "text": [
      "(3, 25)\n"
     ]
    }
   ],
   "source": [
    "#new_data import\n",
    "#仮\n",
    "a = g_data[4][1]\n",
    "b = g_data[0][1]\n",
    "c = g_data[5][2]\n",
    "new_data = np.concatenate([[a],[b],[c]])\n",
    "new_data[1]\n",
    "print(new_data.shape)"
   ]
  },
  {
   "cell_type": "code",
   "execution_count": 241,
   "metadata": {},
   "outputs": [],
   "source": [
    "#new_data = g_data[4][1]"
   ]
  },
  {
   "cell_type": "code",
   "execution_count": 235,
   "metadata": {},
   "outputs": [
    {
     "data": {
      "text/plain": [
       "'\\ncos_関数を呼び出す\\n'"
      ]
     },
     "execution_count": 235,
     "metadata": {},
     "output_type": "execute_result"
    }
   ],
   "source": [
    "\"\"\"\n",
    "cos_関数を呼び出す\n",
    "\"\"\""
   ]
  },
  {
   "cell_type": "code",
   "execution_count": 236,
   "metadata": {},
   "outputs": [],
   "source": [
    "def cos_similarity(x, y, eps=1e-8):\n",
    "    '''コサイン類似度の算出\n",
    "    :param x: ベクトル\n",
    "    :param y: ベクトル\n",
    "    :param eps: ”0割り”防止のための微小値\n",
    "    :return:\n",
    "    '''\n",
    "    nx = x / (np.sqrt(np.sum(x ** 2)) + eps)\n",
    "    ny = y / (np.sqrt(np.sum(y ** 2)) + eps)\n",
    "    return np.dot(nx, ny)"
   ]
  },
  {
   "cell_type": "code",
   "execution_count": 253,
   "metadata": {},
   "outputs": [],
   "source": [
    "def table_distance(g_data, h_data, new_data):\n",
    "    \"\"\" \n",
    "    1) 過去データ：g_data、　+1日後のデータ：h_data、　直前のデータ：new_data\n",
    "    2) new_dataと、過去データを比較しコサイン類似度を算出\n",
    "    3) 類似度とnew_dataの要素積をかける（new_dataは-をかけ、その最小値が、「最も類似しかつ+1日後の結果が良い」\n",
    "    4) tableごとにコサイン類似度の最小値をtable_distanceに格納\n",
    "    \"\"\"\n",
    "    table_distance = {}\n",
    "    for n  in  range(g_data.shape[0]):\n",
    "        #コサイン類似度(cos_similarity)\n",
    "        cos =cos_similarity(g_data[n] , new_data)\n",
    "        distances = cos  * (- h_data[n].T)\n",
    "        distance = np.amin(distances)\n",
    "        table_distance[n] = distance\n",
    "    best_table = np.argmin(table_distance)\n",
    "    #return best_table\n",
    "    return table_distance"
   ]
  },
  {
   "cell_type": "code",
   "execution_count": 266,
   "metadata": {},
   "outputs": [],
   "source": [
    "def predict_table(new_data):\n",
    "    \"\"\"\n",
    "    1) new_dataが2次元配列処理\n",
    "    2) 全tableから最も良いテーブルをレコメンド\n",
    "    \"\"\"\n",
    "    best_predict = {}\n",
    "    for table , d in enumerate(new_data):\n",
    "        best_table = table_distance(g_data, h_data, d)\n",
    "        predict = sorted(best_table.values())[0]\n",
    "        best_predict[table] = predict\n",
    "        \n",
    "    min_kv = min(best_predict.items(), key=lambda x: x[1])\n",
    "\n",
    "    return min_kv\n"
   ]
  },
  {
   "cell_type": "code",
   "execution_count": 267,
   "metadata": {},
   "outputs": [
    {
     "data": {
      "text/plain": [
       "(0, -17.508492377176765)"
      ]
     },
     "execution_count": 267,
     "metadata": {},
     "output_type": "execute_result"
    }
   ],
   "source": [
    "predict_table(new_data)"
   ]
  },
  {
   "cell_type": "code",
   "execution_count": 244,
   "metadata": {},
   "outputs": [
    {
     "data": {
      "text/plain": [
       "{0: -16.552555156338645,\n",
       " 1: -14.954686551451031,\n",
       " 2: -15.145704121053086,\n",
       " 3: -12.6487725318417,\n",
       " 4: -16.55230667676496,\n",
       " 5: -15.831772474400758,\n",
       " 6: -16.076466756751977,\n",
       " 7: -14.79579705927567,\n",
       " 8: -16.050124495863137,\n",
       " 9: -16.08154421166777,\n",
       " 10: -17.508492377176765,\n",
       " 11: -17.111752649636518,\n",
       " 12: -14.896326032673265,\n",
       " 13: -15.32839162062962,\n",
       " 14: -14.802730484084472,\n",
       " 15: -15.322944923911393,\n",
       " 16: -15.259828085712217,\n",
       " 17: -16.725262196259486,\n",
       " 18: -15.547412673464898,\n",
       " 19: -15.91497137004227,\n",
       " 20: -15.062488074285875,\n",
       " 21: -12.81219796857145,\n",
       " 22: -17.4683570813073,\n",
       " 23: -13.8942667251083,\n",
       " 24: -15.252608532020467}"
      ]
     },
     "execution_count": 244,
     "metadata": {},
     "output_type": "execute_result"
    }
   ],
   "source": [
    "table_distance(g_data, h_data, new_data)"
   ]
  },
  {
   "cell_type": "code",
   "execution_count": null,
   "metadata": {},
   "outputs": [],
   "source": []
  },
  {
   "cell_type": "code",
   "execution_count": 204,
   "metadata": {},
   "outputs": [
    {
     "name": "stdout",
     "output_type": "stream",
     "text": [
      "[98. 94. 94. 52. 64. 25. 24. 85. 47. 34. 85. 49. 29. 55. 65.  2.  5. 39.\n",
      "  4. 36. 58. 61. 39. 29. 97.]\n",
      "[94. 94. 52. 64. 25. 24. 85. 47. 34. 85. 49. 29. 55. 65.  2.  5. 39.  4.\n",
      " 36. 58. 61. 39. 29. 97. 32.]\n"
     ]
    }
   ],
   "source": [
    "for i in new_data:\n",
    "    print(i)"
   ]
  },
  {
   "cell_type": "code",
   "execution_count": null,
   "metadata": {},
   "outputs": [],
   "source": []
  },
  {
   "cell_type": "code",
   "execution_count": 170,
   "metadata": {},
   "outputs": [
    {
     "data": {
      "text/plain": [
       "0"
      ]
     },
     "execution_count": 170,
     "metadata": {},
     "output_type": "execute_result"
    }
   ],
   "source": [
    "best_table"
   ]
  },
  {
   "cell_type": "code",
   "execution_count": null,
   "metadata": {},
   "outputs": [],
   "source": []
  },
  {
   "cell_type": "code",
   "execution_count": null,
   "metadata": {},
   "outputs": [],
   "source": []
  },
  {
   "cell_type": "code",
   "execution_count": null,
   "metadata": {},
   "outputs": [],
   "source": [
    "\"\"\"その他\n",
    "# labelデータを、1,0で行た場合　t_data = np.where(h_data > 50, 1, 0)\n",
    "\n",
    "\"\"\""
   ]
  },
  {
   "cell_type": "code",
   "execution_count": null,
   "metadata": {},
   "outputs": [],
   "source": [
    "\n",
    "new_data = g_data[0][1]\n",
    "table_distance = {}\n",
    "\n",
    "for n  in  range(g_data.shape[0]):\n",
    "        #コサイン類似度\n",
    "        cos =cos_similarity(g_data[n] , new_data)\n",
    "        distances = cos  * (- h_data[n].T)\n",
    "        distance = np.amin(distances)\n",
    "        table_distance[n] = distance\n",
    "        \n",
    "    "
   ]
  }
 ],
 "metadata": {
  "kernelspec": {
   "display_name": "Python 3",
   "language": "python",
   "name": "python3"
  },
  "language_info": {
   "codemirror_mode": {
    "name": "ipython",
    "version": 3
   },
   "file_extension": ".py",
   "mimetype": "text/x-python",
   "name": "python",
   "nbconvert_exporter": "python",
   "pygments_lexer": "ipython3",
   "version": "3.6.9"
  }
 },
 "nbformat": 4,
 "nbformat_minor": 2
}
